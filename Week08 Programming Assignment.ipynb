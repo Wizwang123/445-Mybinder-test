{
 "cells": [
  {
   "cell_type": "code",
   "execution_count": 3,
   "metadata": {},
   "outputs": [],
   "source": [
    "# import our usual things\n",
    "%matplotlib inline\n",
    "import cartopy\n",
    "import pandas as pd\n",
    "import matplotlib.pyplot as plt\n",
    "import geopandas \n",
    "import ipyleaflet\n",
    "import numpy as np\n",
    "import bqplot"
   ]
  },
  {
   "cell_type": "code",
   "execution_count": 9,
   "metadata": {},
   "outputs": [],
   "source": [
    "import ipywidgets\n",
    "import contextily as ctx"
   ]
  },
  {
   "cell_type": "code",
   "execution_count": 10,
   "metadata": {},
   "outputs": [],
   "source": [
    "gdf_apts = geopandas.read_file('https://opendata.arcgis.com/datasets/64154052c5a040e287bae1583d727825_8.geojson')"
   ]
  },
  {
   "cell_type": "code",
   "execution_count": 11,
   "metadata": {},
   "outputs": [],
   "source": [
    "gdf_councils = geopandas.read_file('https://opendata.arcgis.com/datasets/1f75636917604299861fb408bbf79378_1.geojson')"
   ]
  },
  {
   "cell_type": "code",
   "execution_count": 55,
   "metadata": {},
   "outputs": [
    {
     "data": {
      "application/vnd.jupyter.widget-view+json": {
       "model_id": "9a413146c85b4ce58a1d1c9ebc71371f",
       "version_major": 2,
       "version_minor": 0
      },
      "text/plain": [
       "VBox(children=(Dropdown(description='Building Type:', index=1, options=('Complex', 'Building', 'House', 'Over …"
      ]
     },
     "metadata": {},
     "output_type": "display_data"
    },
    {
     "data": {
      "application/vnd.jupyter.widget-view+json": {
       "model_id": "ea81eb80f3274fe09c0fbebd437e472b",
       "version_major": 2,
       "version_minor": 0
      },
      "text/plain": [
       "Output()"
      ]
     },
     "metadata": {},
     "output_type": "display_data"
    }
   ],
   "source": [
    "from IPython.display import display\n",
    "import ipywidgets as widgets\n",
    "\n",
    "xlim_min = widgets.FloatSlider(value=-88.32, min=-88.32, max=-88.22,description = \"xlim_min:\",step = 0.02)\n",
    "xlim_max = widgets.FloatSlider(value=-88.22, min=-88.32, max=-88.22,description = \"xlim_max:\",step = 0.02)\n",
    "ylim_min = widgets.FloatSlider(value=40.06, min=40.06, max=40.16,description = \"ylim_min:\",step = 0.02)\n",
    "ylim_max = widgets.FloatSlider(value=40.16, min=40.06, max=40.16,description = \"xlim_max:\",step = 0.02)\n",
    "bt=widgets.Dropdown(\n",
    "    options=gdf_apts['Building_Type'].unique(),\n",
    "    value = 'Building',\n",
    "    description='Building Type:',\n",
    "    disabled=False,\n",
    ")\n",
    "ui = widgets.VBox([bt,xlim_min,xlim_max,ylim_min,ylim_max])\n",
    "\n",
    "# @ipywidgets.interact(btype=gdf_apts['Building_Type'].unique())\n",
    "def my_geopandas_plot(bt,xlim_min,xlim_max,ylim_min,ylim_max):\n",
    "    gdf_apts_subset = gdf_apts.loc[gdf_apts['Building_Type']==bt] # our subsetted dataframe\n",
    "\n",
    "    fig, ax = plt.subplots(1,1,figsize=(10,10))\n",
    "\n",
    "\n",
    "    ax.set_xlim(xlim_min, xlim_max)\n",
    "    ax.set_ylim(ylim_min, ylim_max)\n",
    "\n",
    "    gdf_councils.plot(ax=ax, alpha=0.5, edgecolor='k')\n",
    "    gdf_apts_subset.plot(column='Building_Type', ax=ax, cmap='rainbow', categorical=True, legend=True) # look what changes\n",
    "\n",
    "    ctx.add_basemap(ax=ax, crs=gdf_councils.crs)\n",
    "\n",
    "    plt.show()\n",
    "out = widgets.interactive_output(my_geopandas_plot,{'bt': bt,'xlim_min':xlim_min,'xlim_max':xlim_max,'ylim_min':ylim_min,'ylim_max':ylim_max})\n",
    "display(ui,out)\n"
   ]
  }
 ],
 "metadata": {
  "kernelspec": {
   "display_name": "Python 3",
   "language": "python",
   "name": "python3"
  },
  "language_info": {
   "codemirror_mode": {
    "name": "ipython",
    "version": 3
   },
   "file_extension": ".py",
   "mimetype": "text/x-python",
   "name": "python",
   "nbconvert_exporter": "python",
   "pygments_lexer": "ipython3",
   "version": "3.6.5"
  }
 },
 "nbformat": 4,
 "nbformat_minor": 2
}
